{
 "cells": [
  {
   "cell_type": "code",
   "execution_count": 3,
   "metadata": {},
   "outputs": [
    {
     "name": "stdout",
     "output_type": "stream",
     "text": [
      "(1, 's', 2, 3)\n"
     ]
    }
   ],
   "source": [
    "tuple1 = (1,2,3)\n",
    "temp = tuple1[:1] + ('s',) + tuple1[1:]\n",
    "print(temp)"
   ]
  },
  {
   "cell_type": "code",
   "execution_count": 3,
   "metadata": {},
   "outputs": [
    {
     "data": {
      "text/plain": [
       "tuple"
      ]
     },
     "execution_count": 3,
     "metadata": {},
     "output_type": "execute_result"
    }
   ],
   "source": [
    "h = x,y,z\n",
    "type(h)"
   ]
  },
  {
   "cell_type": "code",
   "execution_count": 19,
   "metadata": {},
   "outputs": [
    {
     "data": {
      "text/plain": [
       "(2, 1)"
      ]
     },
     "execution_count": 19,
     "metadata": {},
     "output_type": "execute_result"
    }
   ],
   "source": [
    "tuple1 = ((x,y) for x in range(10) for y in range(10) if x%2 == 0 if y%2 != 0)\n",
    "tuple1.__next__()\n",
    "tuple1.__next__()\n",
    "tuple1.__next__()\n",
    "tuple1.__next__()\n",
    "tuple1.__next__()\n",
    "tuple1.__next__()"
   ]
  },
  {
   "cell_type": "markdown",
   "metadata": {},
   "source": [
    "14课homework"
   ]
  },
  {
   "cell_type": "code",
   "execution_count": null,
   "metadata": {
    "collapsed": true
   },
   "outputs": [],
   "source": [
    "#密码安全性检查代码\n",
    "#\n",
    "#低级密码要求：\n",
    "#  1. 密码由单纯的数字或字母组成\n",
    "#  2. 密码长度小于等于8位\n",
    "#\n",
    "#中级密码要求\n",
    "#  1. 密码必须由数字、字母或特殊字符（权限:~!@#$%^&*()[]-_=+[]{}\\|,./）任意两种组合\n",
    "#  2. 密码长度不能低于8位\n",
    "#\n",
    "#高级密码要求：\n",
    "#  1.密码必须由数字、字母及特殊字符三种组合\n",
    "#  2.密码只能由字母开头\n",
    "#  3.密码长度不能低于16位\n",
    "\n"
   ]
  }
 ],
 "metadata": {
  "kernelspec": {
   "display_name": "Python 3",
   "language": "python",
   "name": "python3"
  },
  "language_info": {
   "codemirror_mode": {
    "name": "ipython",
    "version": 3
   },
   "file_extension": ".py",
   "mimetype": "text/x-python",
   "name": "python",
   "nbconvert_exporter": "python",
   "pygments_lexer": "ipython3",
   "version": "3.6.2"
  }
 },
 "nbformat": 4,
 "nbformat_minor": 2
}
