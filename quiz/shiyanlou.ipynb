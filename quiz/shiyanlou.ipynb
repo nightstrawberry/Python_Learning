{
 "cells": [
  {
   "cell_type": "code",
   "execution_count": 1,
   "metadata": {},
   "outputs": [
    {
     "name": "stdout",
     "output_type": "stream",
     "text": [
      "Enter a days:45\n",
      "Months = 1 Days = 15\n"
     ]
    }
   ],
   "source": [
    "days = int(input(\"Enter a days:\"))\n",
    "print(\"Months = {} Days = {}\".format(*divmod(days,30)))"
   ]
  },
  {
   "cell_type": "code",
   "execution_count": 3,
   "metadata": {},
   "outputs": [
    {
     "name": "stdout",
     "output_type": "stream",
     "text": [
      "输入单价：200\n",
      "输入数量：3\n",
      "2104.0\n"
     ]
    }
   ],
   "source": [
    "def salary(price,num):\n",
    "    salary = 1500 + 200 * num + 0.02 * price\n",
    "    return salary\n",
    "\n",
    "#print('输入单价，数量：')\n",
    "price = int(input('输入单价：'))\n",
    "num = int(input('输入数量：'))\n",
    "print(salary(price,num))    "
   ]
  },
  {
   "cell_type": "code",
   "execution_count": 4,
   "metadata": {},
   "outputs": [
    {
     "name": "stdout",
     "output_type": "stream",
     "text": [
      "幂级数幂数：4\n",
      "幂级数项数：100\n",
      "e^x的值为54.59815003\n"
     ]
    }
   ],
   "source": [
    "#我们来写一个程序计算幂级数:\n",
    "#e^x = 1 + x + x^2 / 2! + x^3 / 3! ...+ x^n / n! (0 < x < 1)\n",
    "from functools import reduce\n",
    "def e(x,num):\n",
    "    i = 1\n",
    "    e = 1\n",
    "    while i <= num:\n",
    "        e += x**i/reduce(lambda x,y:x*y ,range(1,i+1))\n",
    "        i += 1\n",
    "    return e\n",
    "\n",
    "x = int(input('幂级数幂数：'))\n",
    "num = int(input('幂级数项数：'))\n",
    "#a = e(x,num)\n",
    "print('e^x的值为{:.8F}'.format(e(x,num)))"
   ]
  },
  {
   "cell_type": "code",
   "execution_count": 8,
   "metadata": {},
   "outputs": [
    {
     "data": {
      "text/plain": [
       "2"
      ]
     },
     "execution_count": 8,
     "metadata": {},
     "output_type": "execute_result"
    }
   ],
   "source": [
    "from functools import reduce\n",
    "def factorial(n):\n",
    "    return reduce(lambda x,y:x*y ,range(1,n+1))\n",
    "factorial(2)"
   ]
  }
 ],
 "metadata": {
  "kernelspec": {
   "display_name": "Python 3",
   "language": "python",
   "name": "python3"
  }
 },
 "nbformat": 4,
 "nbformat_minor": 2
}
