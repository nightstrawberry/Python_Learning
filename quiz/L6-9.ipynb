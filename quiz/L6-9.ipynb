{
 "cells": [
  {
   "cell_type": "code",
   "execution_count": null,
   "metadata": {
    "collapsed": true
   },
   "outputs": [],
   "source": [
    "a = 4\n",
    "a += 3\n",
    "d = 10\n",
    "d //=8\n",
    "d"
   ]
  },
  {
   "cell_type": "code",
   "execution_count": null,
   "metadata": {
    "collapsed": true
   },
   "outputs": [],
   "source": [
    "temp = input('输入一个数字：')\n",
    "gus = int(temp)\n",
    "if gus % 2 == 0:\n",
    "    print('是偶数')\n",
    "else:\n",
    "    print('是奇数')"
   ]
  },
  {
   "cell_type": "markdown",
   "metadata": {},
   "source": []
  },
  {
   "cell_type": "code",
   "execution_count": 1,
   "metadata": {
    "scrolled": true
   },
   "outputs": [
    {
     "name": "stdout",
     "output_type": "stream",
     "text": [
      "1 3 5 7 9 11 13 15 17 19 21 23 25 27 29 31 33 35 37 39 41 43 45 47 49 51 53 55 57 59 61 63 65 67 69 71 73 75 77 79 81 83 85 87 89 91 93 95 97 99 "
     ]
    }
   ],
   "source": [
    "#打印0-100所有奇数\n",
    "i = 1\n",
    "while i <= 100:\n",
    "    if i % 2 != 0:\n",
    "        print(i,end=' ')\n",
    "    i += 1"
   ]
  },
  {
   "cell_type": "code",
   "execution_count": 7,
   "metadata": {},
   "outputs": [
    {
     "name": "stdout",
     "output_type": "stream",
     "text": [
      "29\n"
     ]
    }
   ],
   "source": [
    "#数学题\n",
    "i = 1\n",
    "while True:\n",
    "    if i % 2 == 1:\n",
    "        if i % 3 == 2:\n",
    "            if i % 5 == 4:\n",
    "                if i % 6 == 5:\n",
    "                    print(i)\n",
    "                    break\n",
    "                else:\n",
    "                    i += 1\n",
    "            else:\n",
    "                i += 1\n",
    "        else:\n",
    "            i += 1\n",
    "    else:\n",
    "        i += 1"
   ]
  },
  {
   "cell_type": "code",
   "execution_count": 3,
   "metadata": {},
   "outputs": [
    {
     "name": "stdout",
     "output_type": "stream",
     "text": [
      "阶梯数是： 29\n"
     ]
    }
   ],
   "source": [
    "i = 1\n",
    "flag = 0\n",
    "\n",
    "while i <= 1000:\n",
    "    if (i%2 == 1) and (i%3 == 2) and (i%5 == 4) and (i%6 == 5):\n",
    "        flag = 1\n",
    "        print('阶梯数是：',i)\n",
    "        break\n",
    "    else:\n",
    "        i += 1\n",
    "if flag == 0:\n",
    "    print('1000以内无')"
   ]
  },
  {
   "cell_type": "code",
   "execution_count": 7,
   "metadata": {},
   "outputs": [
    {
     "name": "stdout",
     "output_type": "stream",
     "text": [
      "6 6 5\n"
     ]
    }
   ],
   "source": [
    "x = 6;y = 5\n",
    "small = x if x>y else y\n",
    "print(small,x,y)"
   ]
  },
  {
   "cell_type": "code",
   "execution_count": 8,
   "metadata": {
    "collapsed": true
   },
   "outputs": [],
   "source": [
    "x = 1;y = 2;z = 3\n",
    "trans = 0\n",
    "trans = x;x = y"
   ]
  },
  {
   "cell_type": "code",
   "execution_count": 10,
   "metadata": {},
   "outputs": [
    {
     "data": {
      "text/plain": [
       "2"
      ]
     },
     "execution_count": 10,
     "metadata": {},
     "output_type": "execute_result"
    }
   ],
   "source": [
    "(x < y and [x] or [y])[0]"
   ]
  },
  {
   "cell_type": "code",
   "execution_count": 20,
   "metadata": {},
   "outputs": [
    {
     "name": "stdout",
     "output_type": "stream",
     "text": [
      "请输入成绩:78\n",
      "成绩为C\n"
     ]
    }
   ],
   "source": [
    "temp = input('请输入成绩:')\n",
    "score = int(temp)\n",
    "if 60 <= score < 80:\n",
    "    print('成绩为C')\n",
    "elif 80 <= score <90:\n",
    "    print('成绩为B')\n",
    "elif score >= 90:\n",
    "    print('成绩为A')\n",
    "elif score < 60:\n",
    "    print('成绩为D')"
   ]
  },
  {
   "cell_type": "code",
   "execution_count": 22,
   "metadata": {},
   "outputs": [
    {
     "name": "stdout",
     "output_type": "stream",
     "text": [
      "4\n"
     ]
    }
   ],
   "source": [
    "x,y,z = 6,5,4\n",
    "if x < y:\n",
    "    small = x\n",
    "    if small > z:\n",
    "        small = z\n",
    "elif y < z:\n",
    "    small = y\n",
    "else:\n",
    "    small = z\n",
    "print(small)"
   ]
  },
  {
   "cell_type": "code",
   "execution_count": 29,
   "metadata": {},
   "outputs": [
    {
     "name": "stdout",
     "output_type": "stream",
     "text": [
      "4\n"
     ]
    }
   ],
   "source": [
    "x,y,z = 13,4,22\n",
    "small = x if (x<y and x<z) else (y if y<z else z)\n",
    "print(small)"
   ]
  },
  {
   "cell_type": "code",
   "execution_count": 32,
   "metadata": {},
   "outputs": [
    {
     "name": "stdout",
     "output_type": "stream",
     "text": [
      "哈哈 2 嘿嘿 2 霍霍 2 嘻嘻 2 "
     ]
    }
   ],
   "source": [
    "far = ['哈哈','嘿嘿','霍霍','嘻嘻']\n",
    "for i in far:\n",
    "    print(i,len(i),end=' ')"
   ]
  },
  {
   "cell_type": "code",
   "execution_count": 42,
   "metadata": {},
   "outputs": [
    {
     "name": "stdout",
     "output_type": "stream",
     "text": [
      "2\n",
      "* 1\n",
      "4\n",
      "* 3\n",
      "6\n",
      "* 5\n",
      "8\n",
      "* 7\n",
      "10\n",
      "* 9\n"
     ]
    }
   ],
   "source": [
    "for i in range(10):\n",
    "    if i%2 != 0:\n",
    "        print('*',i)\n",
    "        continue\n",
    "    i += 2\n",
    "    print(i)"
   ]
  },
  {
   "cell_type": "code",
   "execution_count": 50,
   "metadata": {},
   "outputs": [
    {
     "name": "stdout",
     "output_type": "stream",
     "text": [
      "ILOVEfishc"
     ]
    }
   ],
   "source": [
    "string = 'ILOVEfishc'\n",
    "for i in string:\n",
    "    print(i,end='')"
   ]
  },
  {
   "cell_type": "code",
   "execution_count": 3,
   "metadata": {},
   "outputs": [
    {
     "name": "stdout",
     "output_type": "stream",
     "text": [
      "请输入密码:4\n",
      "输入错误，您还有 2 次机会请输入密码:5\n",
      "输入错误，您还有 1 次机会请输入密码:6\n",
      "输入错误，您还有 0 次机会请稍后再试\n"
     ]
    }
   ],
   "source": [
    "#输入密码程序\n",
    "password = '234'\n",
    "count = 3\n",
    "while count:\n",
    "    inp = input('请输入密码:')\n",
    "    if inp == password:\n",
    "        print('输入正确')\n",
    "        break\n",
    "    elif '*' in inp:\n",
    "        print('不能有*，您还有',count,'次机会',end='')\n",
    "        continue\n",
    "    else:\n",
    "        print('输入错误，您还有',count-1,'次机会',end='')\n",
    "        count -= 1\n",
    "if count == 0:\n",
    "    print('请稍后再试')"
   ]
  },
  {
   "cell_type": "code",
   "execution_count": 2,
   "metadata": {},
   "outputs": [
    {
     "name": "stdout",
     "output_type": "stream",
     "text": [
      "153\n",
      "370\n",
      "371\n",
      "407\n"
     ]
    }
   ],
   "source": [
    "#求100~999之间所有水仙花数\n",
    "for i in range(100,1000):\n",
    "    sum = 0\n",
    "    temp = i\n",
    "    while temp:\n",
    "        sum = sum + (temp%10) ** 3\n",
    "        temp //=10\n",
    "    if sum == i:\n",
    "        print(i)\n"
   ]
  },
  {
   "cell_type": "code",
   "execution_count": 15,
   "metadata": {},
   "outputs": [
    {
     "name": "stdout",
     "output_type": "stream",
     "text": [
      "red\tyellow\tgreen\n",
      "0 \t 2 \t 6 \t\n",
      "0 \t 3 \t 5 \t\n",
      "1 \t 1 \t 6 \t\n",
      "1 \t 2 \t 5 \t\n",
      "1 \t 3 \t 4 \t\n",
      "2 \t 0 \t 6 \t\n",
      "2 \t 1 \t 5 \t\n",
      "2 \t 2 \t 4 \t\n",
      "2 \t 3 \t 3 \t\n",
      "3 \t 0 \t 5 \t\n",
      "3 \t 1 \t 4 \t\n",
      "3 \t 2 \t 3 \t\n",
      "3 \t 3 \t 2 \t\n"
     ]
    }
   ],
   "source": [
    "#三色求问题\n",
    "#有红、黄、蓝三种颜色的求，其中红球 3 个，黄球 3 个，绿球 6 个\n",
    "#将这 12 个球混合放在一个盒子中，从中任意摸出 8 个球，\n",
    "#编程计算摸出球的各种颜色搭配\n",
    "print('red\\tyellow\\tgreen')\n",
    "for red in range(0,4):\n",
    "    for yellow in range(0,4):\n",
    "        for green in range(2,7):\n",
    "            if red + yellow + green == 8:\n",
    "                print(red,'\\t',yellow,'\\t',green,'\\t')"
   ]
  }
 ],
 "metadata": {
  "kernelspec": {
   "display_name": "Python 3",
   "language": "python",
   "name": "python3"
  },
  "language_info": {
   "codemirror_mode": {
    "name": "ipython",
    "version": 3
   },
   "file_extension": ".py",
   "mimetype": "text/x-python",
   "name": "python",
   "nbconvert_exporter": "python",
   "pygments_lexer": "ipython3",
   "version": "3.6.2"
  }
 },
 "nbformat": 4,
 "nbformat_minor": 2
}
