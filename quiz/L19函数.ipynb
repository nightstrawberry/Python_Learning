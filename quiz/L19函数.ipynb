{
 "cells": [
  {
   "cell_type": "markdown",
   "metadata": {},
   "source": [
    "变量作用域，局部变量，全局变量\n",
    "python的函数可随意访问全局变量，但若修改全局变量，只会在函数里改变值，实质上只会在函数里新建了一个（与全局变量）名字相同的存放在栈空间的局部变量。"
   ]
  },
  {
   "cell_type": "markdown",
   "metadata": {},
   "source": [
    "Homework"
   ]
  },
  {
   "cell_type": "markdown",
   "metadata": {},
   "source": [
    "1.编写一个函数findstr()，统计一个长度为2的子字符串在另一个字符串中刚出现的次数，例如：字符串“You cannot improve your past,but you can improve your future.Once time wasted,lime is wasted.”子字符串为“im”，函数执行后打印“子字符串在目标字符串中出现3次”"
   ]
  },
  {
   "cell_type": "code",
   "execution_count": 6,
   "metadata": {},
   "outputs": [
    {
     "name": "stdout",
     "output_type": "stream",
     "text": [
      "请输入目标字符串：You cannot improve your past,but you can improve your future.Once time wasted,lime is wasted.\n",
      "请输入子字符串（两个字符）：im\n",
      "出现 4 次\n"
     ]
    }
   ],
   "source": [
    "def findstr(desStr,subStr):\n",
    "    count = 0\n",
    "    length = len(desStr)\n",
    "    if subStr not in desStr:\n",
    "        print('在目标字符串中未找到！')\n",
    "    else:\n",
    "        for each1 in range (length - 1):\n",
    "            if desStr[each1] == subStr[0]:\n",
    "                if desStr[each1+1] == subStr[1]:\n",
    "                    count += 1\n",
    "        print('出现 %d 次' %count)\n",
    "\n",
    "desStr = input('请输入目标字符串：')\n",
    "subStr = input('请输入子字符串（两个字符）：')\n",
    "findstr(desStr,subStr)\n",
    "    "
   ]
  },
  {
   "cell_type": "code",
   "execution_count": 27,
   "metadata": {},
   "outputs": [
    {
     "name": "stdout",
     "output_type": "stream",
     "text": [
      "请输入目标字符串：You cannot improve your past,but you can improve your future.Once time wasted,lime is wasted.\n",
      "请输入子字符串：im\n",
      "4\n"
     ]
    }
   ],
   "source": [
    "def findstr(desStr,subStr):\n",
    "    temp = desStr.split(subStr)\n",
    "    length = len(temp)\n",
    "    print(length - 1)\n",
    "\n",
    "desStr = input('请输入目标字符串：')\n",
    "subStr = input('请输入子字符串：')\n",
    "findstr(desStr,subStr)"
   ]
  },
  {
   "cell_type": "code",
   "execution_count": 28,
   "metadata": {},
   "outputs": [
    {
     "name": "stdout",
     "output_type": "stream",
     "text": [
      "1314520\n"
     ]
    }
   ],
   "source": [
    "def fun(var):\n",
    "    var = 1314\n",
    "    print(var,end='')\n",
    "    \n",
    "var = 520\n",
    "fun(var)\n",
    "print(var)"
   ]
  },
  {
   "cell_type": "code",
   "execution_count": 4,
   "metadata": {
    "scrolled": true
   },
   "outputs": [
    {
     "name": "stdout",
     "output_type": "stream",
     "text": [
      "babyI love you\n"
     ]
    }
   ],
   "source": [
    "var = 'hi'\n",
    "\n",
    "def fun1():\n",
    "    global var\n",
    "    var = 'baby'\n",
    "    return fun2(var)\n",
    "\n",
    "def fun2(var):\n",
    "    var += 'I love you'\n",
    "    fun3(var)\n",
    "    return var\n",
    "def fun3(var):\n",
    "    var = 'x'\n",
    "    \n",
    "print(fun1())"
   ]
  },
  {
   "cell_type": "markdown",
   "metadata": {},
   "source": [
    "2.写一个函数，判断是否为回联文"
   ]
  },
  {
   "cell_type": "code",
   "execution_count": 4,
   "metadata": {},
   "outputs": [
    {
     "name": "stdout",
     "output_type": "stream",
     "text": [
      "不是回联文。\n"
     ]
    }
   ],
   "source": [
    "def reword(st):\n",
    "    if(st[::-1] == st):\n",
    "        print(\"是回联文。\")\n",
    "    else:\n",
    "        print(\"不是回联文。\")\n",
    "        \n",
    "reword('nishizhuma')"
   ]
  },
  {
   "cell_type": "markdown",
   "metadata": {},
   "source": [
    "3.编写一个函数，分别统计传入字符串参数（不止一个）的英文字母、空格、数字和其他字符的个数。"
   ]
  },
  {
   "cell_type": "code",
   "execution_count": 23,
   "metadata": {
    "scrolled": true
   },
   "outputs": [
    {
     "name": "stdout",
     "output_type": "stream",
     "text": [
      "第1个字符串共有：英文字母8个，空格2个，数字8个，其他字符18个\n",
      "第2个字符串共有：英文字母7个，空格0个，数字0个，其他字符8个\n"
     ]
    }
   ],
   "source": [
    "def statistic(*param):\n",
    "    length = len(param)\n",
    "    for i in range(length):\n",
    "        letters = 0\n",
    "        space = 0\n",
    "        digits = 0\n",
    "        others = 0\n",
    "        for each in param[i]:\n",
    "            if each.isalpha():\n",
    "                letters += 1\n",
    "            if each.isdigit():\n",
    "                digits += 1\n",
    "            if each == ' ':\n",
    "                space += 1\n",
    "            else:\n",
    "                others += 1\n",
    "        print(\"第%d个字符串共有：英文字母%d个，空格%d个，数字%d个，其他字符%d个\"\\\n",
    "              %(i+1,letters,space,digits,others))\n",
    "statistic('sad oijq82h1 74545……','阿三&ewqsa')"
   ]
  }
 ],
 "metadata": {
  "kernelspec": {
   "display_name": "Python 3",
   "language": "python",
   "name": "python3"
  },
  "language_info": {
   "codemirror_mode": {
    "name": "ipython",
    "version": 3
   },
   "file_extension": ".py",
   "mimetype": "text/x-python",
   "name": "python",
   "nbconvert_exporter": "python",
   "pygments_lexer": "ipython3",
   "version": "3.6.2"
  }
 },
 "nbformat": 4,
 "nbformat_minor": 2
}
