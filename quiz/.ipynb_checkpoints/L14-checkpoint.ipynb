{
 "cells": [
  {
   "cell_type": "code",
   "execution_count": 10,
   "metadata": {},
   "outputs": [
    {
     "data": {
      "text/plain": [
       "'I love 插入 fishc'"
      ]
     },
     "execution_count": 10,
     "metadata": {},
     "output_type": "execute_result"
    }
   ],
   "source": [
    "str1 = 'i love fishc'\n",
    "str1 = str1[:6] + ' 插入'+str1[6:]\n",
    "str1.capitalize()"
   ]
  },
  {
   "cell_type": "code",
   "execution_count": 15,
   "metadata": {},
   "outputs": [
    {
     "data": {
      "text/plain": [
       "'I love Fish.com'"
      ]
     },
     "execution_count": 15,
     "metadata": {},
     "output_type": "execute_result"
    }
   ],
   "source": [
    " '{a} love {b}.{c}'.format(a = 'I',b = 'Fish',c = 'com')"
   ]
  },
  {
   "cell_type": "code",
   "execution_count": 17,
   "metadata": {},
   "outputs": [
    {
     "data": {
      "text/plain": [
       "'27.69GB'"
      ]
     },
     "execution_count": 17,
     "metadata": {},
     "output_type": "execute_result"
    }
   ],
   "source": [
    "'{0:.2f}{1}'.format(27.6893,'GB')"
   ]
  },
  {
   "cell_type": "code",
   "execution_count": 2,
   "metadata": {},
   "outputs": [
    {
     "name": "stdout",
     "output_type": "stream",
     "text": [
      "请输入需要检查的密码组合：ecfnwen436\n",
      "您的密码安全级别评定为：中\n",
      "请按以下方式提升您的密码安全等级:\n",
      "\t1.密码必须由数字、字母及特殊字符三种组合\n",
      "\t2.密码只能由字母开头\n",
      "\t3.密码长度不能低于16位'\n"
     ]
    }
   ],
   "source": [
    "#密码安全性检查代码  \n",
    "#  \n",
    "# 低级密码要求：  \n",
    "#   1. 密码由单纯的数字或字母组成  \n",
    "#   2. 密码长度小于等于8位  \n",
    "#  \n",
    "# 中级密码要求：  \n",
    "#   1. 密码必须由数字、字母或特殊字符（仅限：~!@#$%^&*()_=-/,.?<>;:[]{}|\\）任意两种组合  \n",
    "#   2. 密码长度不能低于8位  \n",
    "#  \n",
    "# 高级密码要求：  \n",
    "#   1. 密码必须由数字、字母及特殊字符（仅限：~!@#$%^&*()_=-/,.?<>;:[]{}|\\）三种组合  \n",
    "#   2. 密码只能由字母开头  \n",
    "#   3. 密码长度不能低于16位  \n",
    "symbles = r'''`!@#$%^&*()_+-=/*{}[]\\|'\";:/?,.<>''' \n",
    "chars = 'abcdefghijklmnopqrstuvwxyzABCDEFGHIJKLMNOPQRSTUVWXYZ'\n",
    "nums = '1234567890'\n",
    "passwd = input('请输入需要检查的密码组合：')\n",
    "#判断长度\n",
    "length = len(passwd)\n",
    "while(passwd.isspace() or length == 0):\n",
    "    passwd = input('您输入的密码为空（或空格），请重新输入：')\n",
    "if length <= 8:\n",
    "    flag_len = 1\n",
    "elif 8 < length < 16:\n",
    "    flag_len = 2\n",
    "else:\n",
    "    flag_len = 3\n",
    "\n",
    "flag_con = 0\n",
    "\n",
    "#判断是否包含特殊字符\n",
    "for each in passwd:\n",
    "    if each in symbles:\n",
    "        flag_con += 1\n",
    "        break\n",
    "        \n",
    "#判断是否包含字母\n",
    "for each in passwd:\n",
    "    if each in chars:\n",
    "        flag_con += 1\n",
    "        break\n",
    "#判断是否包含数字\n",
    "for each in passwd:\n",
    "    if each in nums:\n",
    "        flag_con += 1\n",
    "        break\n",
    "#打印结果\n",
    "while 1:\n",
    "    print(\"您的密码安全级别评定为：\",end='')\n",
    "    if flag_len == 1 or flag_con == 1:\n",
    "        print(\"低\")\n",
    "        break\n",
    "    elif flag_len == 2 or flag_con == 2:\n",
    "        print(\"中\")\n",
    "        break\n",
    "    else:\n",
    "        print(\"高\")\n",
    "        break\n",
    "    \n",
    "print(\"请按以下方式提升您的密码安全等级:\\n\\\n",
    "\\t1.密码必须由数字、字母及特殊字符三种组合\\n\\\n",
    "\\t2.密码只能由字母开头\\n\\\n",
    "\\t3.密码长度不能低于16位'\")\n",
    "\n",
    "\n"
   ]
  },
  {
   "cell_type": "code",
   "execution_count": 18,
   "metadata": {},
   "outputs": [
    {
     "data": {
      "text/plain": [
       "'a'"
      ]
     },
     "execution_count": 18,
     "metadata": {},
     "output_type": "execute_result"
    }
   ],
   "source": [
    "str1 = '<a href=\"http://www.fishc.com/dvd\" target=\"_blank\"> C资源打包</a>'\n",
    "str1[-2:-1]"
   ]
  },
  {
   "cell_type": "code",
   "execution_count": 19,
   "metadata": {},
   "outputs": [
    {
     "data": {
      "text/plain": [
       "'ilovefishc.com'"
      ]
     },
     "execution_count": 19,
     "metadata": {},
     "output_type": "execute_result"
    }
   ],
   "source": [
    "str1 = 'i2sl54ovvvb4e3bferi32s56h;$c43.sfc67o0cm99' \n",
    "str1[::3]"
   ]
  },
  {
   "cell_type": "code",
   "execution_count": 6,
   "metadata": {},
   "outputs": [
    {
     "data": {
      "text/plain": [
       "'I love FishC.com'"
      ]
     },
     "execution_count": 6,
     "metadata": {},
     "output_type": "execute_result"
    }
   ],
   "source": [
    "\"{} love {}.{}\".format(\"I\",\"FishC\",\"com\")"
   ]
  },
  {
   "cell_type": "code",
   "execution_count": null,
   "metadata": {
    "collapsed": true
   },
   "outputs": [],
   "source": [
    "#编写一个进制转换程序\n",
    "q = true\n",
    "while q:\n",
    "    num = input('请输入一个数（输入Q结束程序）:')\n",
    "    if num != 'Q':\n",
    "        num = int(num)\n",
    "        print('十进制->十六进制: %d -> 0x%x'%(num,num))"
   ]
  }
 ],
 "metadata": {
  "kernelspec": {
   "display_name": "Python 3",
   "language": "python",
   "name": "python3"
  },
  "language_info": {
   "codemirror_mode": {
    "name": "ipython",
    "version": 3
   },
   "file_extension": ".py",
   "mimetype": "text/x-python",
   "name": "python",
   "nbconvert_exporter": "python",
   "pygments_lexer": "ipython3",
   "version": "3.6.2"
  }
 },
 "nbformat": 4,
 "nbformat_minor": 2
}
