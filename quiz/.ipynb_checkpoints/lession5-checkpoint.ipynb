{
 "cells": [
  {
   "cell_type": "code",
   "execution_count": 1,
   "metadata": {},
   "outputs": [
    {
     "name": "stdout",
     "output_type": "stream",
     "text": [
      "haha\n"
     ]
    }
   ],
   "source": [
    "print('haha')"
   ]
  },
  {
   "cell_type": "code",
   "execution_count": 2,
   "metadata": {
    "scrolled": true
   },
   "outputs": [
    {
     "data": {
      "text/plain": [
       "5"
      ]
     },
     "execution_count": 2,
     "metadata": {},
     "output_type": "execute_result"
    }
   ],
   "source": [
    "a = 5.7\n",
    "c = int(a)\n",
    "c"
   ]
  },
  {
   "cell_type": "code",
   "execution_count": 3,
   "metadata": {
    "scrolled": true
   },
   "outputs": [
    {
     "data": {
      "text/plain": [
       "520.0"
      ]
     },
     "execution_count": 3,
     "metadata": {},
     "output_type": "execute_result"
    }
   ],
   "source": [
    "a = '520'\n",
    "b = float(a)\n",
    "b"
   ]
  },
  {
   "cell_type": "code",
   "execution_count": 4,
   "metadata": {},
   "outputs": [
    {
     "data": {
      "text/plain": [
       "'5.99'"
      ]
     },
     "execution_count": 4,
     "metadata": {},
     "output_type": "execute_result"
    }
   ],
   "source": [
    "a = 5.99\n",
    "b = str(a)\n",
    "b"
   ]
  },
  {
   "cell_type": "code",
   "execution_count": 5,
   "metadata": {},
   "outputs": [
    {
     "data": {
      "text/plain": [
       "str"
      ]
     },
     "execution_count": 5,
     "metadata": {},
     "output_type": "execute_result"
    }
   ],
   "source": [
    "a = '520'\n",
    "type(a)"
   ]
  },
  {
   "cell_type": "code",
   "execution_count": 6,
   "metadata": {},
   "outputs": [
    {
     "data": {
      "text/plain": [
       "True"
      ]
     },
     "execution_count": 6,
     "metadata": {},
     "output_type": "execute_result"
    }
   ],
   "source": [
    "a = 'xiaojiayu'\n",
    "isinstance(a,str)"
   ]
  },
  {
   "cell_type": "markdown",
   "metadata": {},
   "source": [
    "# homework"
   ]
  },
  {
   "cell_type": "code",
   "execution_count": 8,
   "metadata": {},
   "outputs": [
    {
     "name": "stdout",
     "output_type": "stream",
     "text": [
      "请给出一个年份：200\n",
      "200不是闰年\n",
      "结束\n"
     ]
    }
   ],
   "source": [
    "temp = input('请给出一个年份：')\n",
    "year = int(temp)\n",
    "if temp[-2:] != '00' and year % 4 ==0:\n",
    "    print('{}是闰年'.format(temp))\n",
    "elif year %400 ==0:\n",
    "    print('{}是闰年'.format(temp))\n",
    "else:\n",
    "    print('{}不是闰年'.format(temp))\n",
    "print('结束')"
   ]
  },
  {
   "cell_type": "code",
   "execution_count": null,
   "metadata": {
    "collapsed": true
   },
   "outputs": [],
   "source": [
    "#作业答案\n",
    "temp = input('请输入一个年份：')\n",
    "while not temp.isdigit():\n",
    "    temp = input('抱歉，输入有误，请输入一个数：')\n",
    "    \n",
    "year = int(temp)\n",
    "if year/400 == int(year/400):\n",
    "    print(temp + '是闰年')\n",
    "else:\n",
    "    if(year/4 == int(year/4)) and (year/100 != int(year/100))：\n",
    "        print(temp + '是闰年')\n",
    "else:\n",
    "    print(temp +'不是闰年')\n"
   ]
  },
  {
   "cell_type": "code",
   "execution_count": 29,
   "metadata": {},
   "outputs": [
    {
     "data": {
      "text/plain": [
       "True"
      ]
     },
     "execution_count": 29,
     "metadata": {},
     "output_type": "execute_result"
    }
   ],
   "source": [
    "400/4 == int(400/4)"
   ]
  },
  {
   "cell_type": "code",
   "execution_count": 7,
   "metadata": {
    "scrolled": true
   },
   "outputs": [
    {
     "name": "stdout",
     "output_type": "stream",
     "text": [
      "请给出一个年份：200\n",
      "200不是闰年\n",
      "结束\n"
     ]
    }
   ],
   "source": [
    "# 写一个程序，判断给定年份是否为闰年。\n",
    "temp = input('请给出一个年份：')\n",
    "year = int(temp)\n",
    "if year%4 == 0 and year%100 != 0:\n",
    "        print('%s是闰年'%temp)\n",
    "        print('{}是闰年'.format(temp))\n",
    "elif year%400 == 0:\n",
    "    print(temp + '是闰年')\n",
    "else: \n",
    "    print(temp + '不是闰年')\n",
    "print('结束')\n",
    "\n",
    "#猜数字小游戏\n",
    "import random\n",
    "times = 3\n",
    "secret = random.randint(1,10)\n",
    "print('-----工作室----')\n",
    "guess = 0\n",
    "print(\"猜一下我心里想的数字：\",end='')\n",
    "while times > 0:\n",
    "#while (guess != secret) and (times > 0):(为什么要有第一个)\n",
    "    temp = input()\n",
    "    while not temp.isdigit():\n",
    "        temp = input(\"抱歉，您的输入有误，请输入一个整数：\")\n",
    "    guess = int(temp)\n",
    "    times = times - 1#用户每输入一次，机会减一次\n",
    "    if guess == secret:\n",
    "        print(\"厉害\")\n",
    "        print(\"结束\")\n",
    "    else:\n",
    "        if guess > secret:\n",
    "            print(\"大了\")\n",
    "        else:\n",
    "            print(\"小了\")\n",
    "        if times > 0:\n",
    "            print(\"再试一次：\")\n",
    "        else:\n",
    "            print(\"你没有机会啦\")\n",
    "print(\"游戏结束\")\n",
    "        "
   ]
  },
  {
   "cell_type": "code",
   "execution_count": 31,
   "metadata": {},
   "outputs": [
    {
     "name": "stdout",
     "output_type": "stream",
     "text": [
      "请输入一个整数：5\n",
      "1\n",
      "2\n",
      "3\n",
      "4\n",
      "5\n"
     ]
    }
   ],
   "source": [
    "#数数\n",
    "temp = input('请输入一个整数：')\n",
    "number = int(temp)\n",
    "i = 1\n",
    "while number:\n",
    "    print(i)\n",
    "    i = i + 1\n",
    "    number = number - 1\n",
    "    "
   ]
  },
  {
   "cell_type": "code",
   "execution_count": 7,
   "metadata": {},
   "outputs": [
    {
     "name": "stdout",
     "output_type": "stream",
     "text": [
      "请输入一个整数:6\n",
      "     ******\n",
      "    *****\n",
      "   ****\n",
      "  ***\n",
      " **\n",
      "*\n"
     ]
    }
   ],
   "source": [
    "temp = input('请输入一个整数:')\n",
    "num = int(temp)\n",
    "while num:\n",
    "    i = num-1\n",
    "    while i:\n",
    "        print(' ',end = '')\n",
    "        i = i - 1\n",
    "    j = num\n",
    "    while j:\n",
    "        print('*',end = '')\n",
    "       \n",
    "        j = j - 1\n",
    "    print()\n",
    "    \n",
    "    num = num - 1"
   ]
  }
 ],
 "metadata": {
  "kernelspec": {
   "display_name": "Python 3",
   "language": "python",
   "name": "python3"
  },
  "language_info": {
   "codemirror_mode": {
    "name": "ipython",
    "version": 3
   },
   "file_extension": ".py",
   "mimetype": "text/x-python",
   "name": "python",
   "nbconvert_exporter": "python",
   "pygments_lexer": "ipython3",
   "version": "3.6.2"
  }
 },
 "nbformat": 4,
 "nbformat_minor": 2
}
