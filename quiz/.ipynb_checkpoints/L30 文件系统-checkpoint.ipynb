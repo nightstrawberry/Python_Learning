{
 "cells": [
  {
   "cell_type": "markdown",
   "metadata": {},
   "source": [
    "## L30 系统文件"
   ]
  },
  {
   "cell_type": "markdown",
   "metadata": {},
   "source": [
    "os\n",
    "\n",
    "os.path"
   ]
  },
  {
   "cell_type": "code",
   "execution_count": 1,
   "metadata": {},
   "outputs": [
    {
     "data": {
      "text/plain": [
       "6"
      ]
     },
     "execution_count": 1,
     "metadata": {},
     "output_type": "execute_result"
    }
   ],
   "source": [
    "import random\n",
    "secret = random.randint(1,10)\n",
    "secret"
   ]
  },
  {
   "cell_type": "markdown",
   "metadata": {},
   "source": [
    "Homework"
   ]
  },
  {
   "cell_type": "code",
   "execution_count": 4,
   "metadata": {},
   "outputs": [
    {
     "name": "stdout",
     "output_type": "stream",
     "text": [
      "该文件夹下共有类型为文件夹的文件1个\n",
      "该文件夹下共有类型为.py的文件3个\n",
      "该文件夹下共有类型为.txt的文件9个\n",
      "该文件夹下共有类型为.ipynb的文件11个\n"
     ]
    }
   ],
   "source": [
    "#编写一个程序，统计当前目录下每个文件类型的文件数。\n",
    "\n",
    "import os\n",
    "\n",
    "all_files = os.listdir(os.curdir) #使用os.curdir表示当前目录\n",
    "type_dict = dict()\n",
    "\n",
    "for each_file in all_files:\n",
    "    if os.path.isdir(each_file):\n",
    "        type_dict.setdefault('文件夹',0)\n",
    "        type_dict['文件夹'] += 1\n",
    "    else:\n",
    "        ext = os.path.splitext(each_file)[1] #分离\n",
    "        type_dict.setdefault(ext,0)\n",
    "        type_dict[ext] += 1\n",
    "        \n",
    "\n",
    "for each_type in type_dict.keys():\n",
    "    print('该文件夹下共有类型为%s的文件%d个' %(each_type,type_dict[each_type]))"
   ]
  },
  {
   "cell_type": "markdown",
   "metadata": {},
   "source": [
    "## L31 永久，pickle模块 "
   ]
  },
  {
   "cell_type": "code",
   "execution_count": null,
   "metadata": {
    "collapsed": true
   },
   "outputs": [],
   "source": [
    "import pickle\n",
    "my_list = [123,3.14,]"
   ]
  },
  {
   "cell_type": "markdown",
   "metadata": {},
   "source": [
    "## L32-L33 异常处理 "
   ]
  },
  {
   "cell_type": "code",
   "execution_count": 4,
   "metadata": {},
   "outputs": [
    {
     "name": "stdout",
     "output_type": "stream",
     "text": [
      "出错\n"
     ]
    }
   ],
   "source": [
    "try:\n",
    "    f = open('我为什么是个文件？')\n",
    "    print(f.read())\n",
    "    f.close\n",
    "#except OSError as reason:\n",
    "#    print('文件有误，原因是：'+ str(reason))\n",
    "#以下不推荐\n",
    "#except:\n",
    "#    print('出错')"
   ]
  }
 ],
 "metadata": {
  "kernelspec": {
   "display_name": "Python 3",
   "language": "python",
   "name": "python3"
  },
  "language_info": {
   "codemirror_mode": {
    "name": "ipython",
    "version": 3
   },
   "file_extension": ".py",
   "mimetype": "text/x-python",
   "name": "python",
   "nbconvert_exporter": "python",
   "pygments_lexer": "ipython3",
   "version": "3.6.2"
  }
 },
 "nbformat": 4,
 "nbformat_minor": 2
}
