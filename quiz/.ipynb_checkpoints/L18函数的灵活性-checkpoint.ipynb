{
 "cells": [
  {
   "cell_type": "code",
   "execution_count": 2,
   "metadata": {},
   "outputs": [
    {
     "name": "stdout",
     "output_type": "stream",
     "text": [
      "参数的长度是： 5\n",
      "第二个参数是： haha\n"
     ]
    }
   ],
   "source": [
    "#可变参数\n",
    "def test(*params):\n",
    "    print('参数的长度是：',len(params))\n",
    "    print('第二个参数是：',params[1])\n",
    "    \n",
    "test(1,'haha',3,24,4)"
   ]
  },
  {
   "cell_type": "code",
   "execution_count": null,
   "metadata": {
    "collapsed": true
   },
   "outputs": [],
   "source": [
    "def mFun(*param,base = 3):\n",
    "    result = 0\n",
    "    for each in param:\n",
    "        result += each\n",
    "        \n"
   ]
  }
 ],
 "metadata": {
  "kernelspec": {
   "display_name": "Python 3",
   "language": "python",
   "name": "python3"
  },
  "language_info": {
   "codemirror_mode": {
    "name": "ipython",
    "version": 3
   },
   "file_extension": ".py",
   "mimetype": "text/x-python",
   "name": "python",
   "nbconvert_exporter": "python",
   "pygments_lexer": "ipython3",
   "version": "3.6.2"
  }
 },
 "nbformat": 4,
 "nbformat_minor": 2
}
