{
 "cells": [
  {
   "cell_type": "markdown",
   "metadata": {},
   "source": [
    "元祖，数组，字符串都属于列表，内置函数：list(元组转化为数组)、str（对象转化为字符串）、tuple（数组转化为元祖）\n",
    "len、max、sorted都是sum（函数）"
   ]
  },
  {
   "cell_type": "code",
   "execution_count": null,
   "metadata": {},
   "outputs": [],
   "source": [
    "b = 'I Love fishc'\n",
    "b = list(b)\n",
    "b"
   ]
  },
  {
   "cell_type": "code",
   "execution_count": null,
   "metadata": {},
   "outputs": [],
   "source": [
    "c = [1,1,2,3,5,8,13,21,34]\n",
    "c =tuple(c)\n",
    "c"
   ]
  },
  {
   "cell_type": "code",
   "execution_count": null,
   "metadata": {},
   "outputs": [],
   "source": [
    "a = [1,18,13,0,-765,254,2,1]\n",
    "reversed(a)\n",
    "list(reversed(a))"
   ]
  },
  {
   "cell_type": "code",
   "execution_count": null,
   "metadata": {},
   "outputs": [],
   "source": [
    "a = [1,18,13,0,-765,254,2,1]\n",
    "list(enumerate(a))"
   ]
  },
  {
   "cell_type": "code",
   "execution_count": null,
   "metadata": {},
   "outputs": [],
   "source": [
    "a = [1,2,3,4,5,6,7]\n",
    "b = [4,5,6,7,8]\n",
    "list(zip(a,b))"
   ]
  },
  {
   "cell_type": "markdown",
   "metadata": {},
   "source": [
    "homework"
   ]
  },
  {
   "cell_type": "code",
   "execution_count": null,
   "metadata": {},
   "outputs": [],
   "source": [
    "#查找用户名\n",
    "name = input('请输入用户名：')\n",
    "score = [['迷途',85],['黑夜',80],['小布丁',68],['哈哈',85],['阿什',85]]\n",
    "        IsFind = 1\n",
    "IsFind = 0\n",
    "for each in score:\n",
    "    if name in each:\n",
    "        print(name + '得分是：',each[1])\n",
    "        break\n",
    "if IsFind == 0:\n",
    "    print('查找的不存在！')"
   ]
  },
  {
   "cell_type": "code",
   "execution_count": null,
   "metadata": {},
   "outputs": [],
   "source": [
    "#sum（）函数BIF缺陷：参数里有字符串类型会报错，定义一个函数，无视字符串类型\n",
    "def sum(x):\n",
    "    result = 0\n",
    "    \n",
    "    for each in x:\n",
    "        if (type(each) == int) or (type(each) == float):\n",
    "            result += each\n",
    "        else:\n",
    "            continue\n",
    "    \n",
    "    return result\n",
    "\n",
    "print(sum([1,2,4.5,6.5,'s','d']))"
   ]
  },
  {
   "cell_type": "code",
   "execution_count": null,
   "metadata": {},
   "outputs": [],
   "source": [
    "def hello():\n",
    "    print('Hello World!')\n",
    "    return\n",
    "    print('nihao')\n",
    "    \n",
    "print(hello())"
   ]
  },
  {
   "cell_type": "code",
   "execution_count": 5,
   "metadata": {},
   "outputs": [
    {
     "name": "stdout",
     "output_type": "stream",
     "text": [
      "64 64\n"
     ]
    }
   ],
   "source": [
    "#编写一个函数power()模拟内建函数pow()，\n",
    "#即power(x, y)为计算并返回x的y次幂的值。\n",
    "def pow(x,y):\n",
    "    z = 0\n",
    "    temp = x\n",
    "    while (z < y-1):\n",
    "        x = x * temp\n",
    "        z += 1\n",
    "    return x\n",
    "\n",
    "#答案\n",
    "def pow_answer(x,y):\n",
    "    result = 1\n",
    "    for i in range(y):\n",
    "        result *= x\n",
    "    return (result)\n",
    "\n",
    "m = pow(4,3)\n",
    "n = pow_answer(4,3)\n",
    "print(m,n)\n"
   ]
  },
  {
   "cell_type": "code",
   "execution_count": 3,
   "metadata": {},
   "outputs": [
    {
     "name": "stdout",
     "output_type": "stream",
     "text": [
      "2\n"
     ]
    }
   ],
   "source": [
    "#编写一个函数，利用欧几里得算法（脑补链接）求最大公约数，\n",
    "#例如gcd(x, y)返回值为参数x和参数y的最大公约数。\n",
    "\n",
    "def gcd(x,y):\n",
    "    if (x < y):\n",
    "        x,y = y,x\n",
    "    while(x % y):\n",
    "        x,y = y,x % y\n",
    "    return(y)\n",
    "\n",
    "\n",
    "w = gcd(6,4)\n",
    "print(w)       "
   ]
  },
  {
   "cell_type": "code",
   "execution_count": 2,
   "metadata": {},
   "outputs": [
    {
     "name": "stdout",
     "output_type": "stream",
     "text": [
      "2\n"
     ]
    }
   ],
   "source": [
    "#编写一个函数，利用欧几里得算法（脑补链接）求最大公约数，\n",
    "#例如gcd(x, y)返回值为参数x和参数y的最大公约数。\n",
    "\n",
    "def gcd(x,y):\n",
    "    if(x < y):\n",
    "        temp = x\n",
    "        x = y\n",
    "        y = temp\n",
    "    c = [x,y]\n",
    "    while(c[0] % c[1]):\n",
    "        r = c[0] % c[1]\n",
    "        c = [y,r]\n",
    "    return(r)\n",
    "\n",
    "w = gcd(6,4)\n",
    "print(w)"
   ]
  },
  {
   "cell_type": "code",
   "execution_count": null,
   "metadata": {
    "collapsed": true
   },
   "outputs": [],
   "source": []
  }
 ],
 "metadata": {
  "kernelspec": {
   "display_name": "Python 3",
   "language": "python",
   "name": "python3"
  },
  "language_info": {
   "codemirror_mode": {
    "name": "ipython",
    "version": 3
   },
   "file_extension": ".py",
   "mimetype": "text/x-python",
   "name": "python",
   "nbconvert_exporter": "python",
   "pygments_lexer": "ipython3",
   "version": "3.6.2"
  }
 },
 "nbformat": 4,
 "nbformat_minor": 2
}
