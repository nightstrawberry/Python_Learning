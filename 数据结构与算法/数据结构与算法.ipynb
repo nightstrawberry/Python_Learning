{
 "cells": [
  {
   "cell_type": "code",
   "execution_count": 27,
   "metadata": {},
   "outputs": [
    {
     "name": "stdout",
     "output_type": "stream",
     "text": [
      "False\n",
      "0.01562786102294922\n"
     ]
    }
   ],
   "source": [
    "# 变为次判断问题\n",
    "\n",
    "#逐字检查法\n",
    "# 计算复杂度O(n^2)\n",
    "import time\n",
    "s = time.time()\n",
    "def anagramSolution1(s1,s2):\n",
    "    alist = list(s2)\n",
    "    pos1 = 0\n",
    "    stillOK = True\n",
    "    while pos1 < len(s1) and stillOK:\n",
    "        pos2 = 0\n",
    "        found = False\n",
    "        while pos2 < len(alist) and not found:\n",
    "            if s1[pos1] == alist[pos2]:\n",
    "                found = True #判断是否找到对应字母\n",
    "            else:\n",
    "                pos2 = pos2 + 1\n",
    "        if found:\n",
    "            alist[pos2] = None #该字母划勾，不再检查\n",
    "        else:\n",
    "            stillOK = False\n",
    "        pos1 = pos1 + 1\n",
    "    return stillOK\n",
    "\n",
    "print(anagramSolution1('abcdsfwgaaerbdabEGWevdnmkuiluoilkuymdn'\\\n",
    "                       ,'cabgsvsddbhgjuikytdhberabaerb'))\n",
    "e = time.time()\n",
    "print(e-s)\n",
    "        "
   ]
  },
  {
   "cell_type": "code",
   "execution_count": 29,
   "metadata": {},
   "outputs": [
    {
     "name": "stdout",
     "output_type": "stream",
     "text": [
      "False\n",
      "0.0\n"
     ]
    }
   ],
   "source": [
    "# 排序\n",
    "# 计算复杂度O(n*logn)\n",
    "import time\n",
    "s = time.time()\n",
    "def anagramSolution2(s1,s2):\n",
    "    alist = list(s1).sort()\n",
    "    blist = list(s2).sort()\n",
    "    found = True\n",
    "    i = 0\n",
    "    while found and i < len(s1):\n",
    "        if alist[i] == alist[i]:\n",
    "            i += 1\n",
    "        else:\n",
    "            found = False\n",
    "    return found\n",
    "\n",
    "print(anagramSolution1('abcdsfwgaaerbdabEGWevdnmkuiluoilkuymdn'\\\n",
    "                       ,'cabgsvsddbhgjuikyascmk7854y34tdhberabaerb'))\n",
    "e = time.time()\n",
    "print(e-s)"
   ]
  },
  {
   "cell_type": "code",
   "execution_count": null,
   "metadata": {
    "collapsed": true
   },
   "outputs": [],
   "source": [
    "# 计数器\n",
    "def anagramSolution3(s1,s2):\n",
    "    c1 = [0] * 26\n",
    "    c2 = [0] * 26\n",
    "    for i in range(len(s1)):\n",
    "        pos = ord(s1[i]) - ord('a')\n",
    "        c1[pos] = c1[pos] + 1\n",
    "    for i in range(len(s2)):\n",
    "        pos = ord(s2[i]) - ord('a')\n",
    "        c2[pos] = c1[pos] + 1\n",
    "    j = 0\n",
    "    stillOK = True\n",
    "    while j < 26 and stillOK:\n",
    "        if c1[j] == c2[j]:\n",
    "            j = j + 1\n",
    "        else:\n",
    "            stillOK = False\n",
    "    return sillOK\n",
    "\n"
   ]
  },
  {
   "cell_type": "code",
   "execution_count": 1,
   "metadata": {},
   "outputs": [
    {
     "name": "stdout",
     "output_type": "stream",
     "text": [
      "False\n",
      "False\n"
     ]
    }
   ],
   "source": [
    "#通用括号匹配算法\n",
    "\n",
    "from pythonds.basic.stack import Stack\n",
    "\n",
    "def parChecker(symbolString):\n",
    "    s = Stack()\n",
    "    balanced = True\n",
    "    index = 0\n",
    "    while index < len(symbolString) and balanced:\n",
    "        symbol = symbolString[index]\n",
    "        if symbol in \"([{\":\n",
    "            s.push(symbol)\n",
    "        else:\n",
    "            if s.isEmpty():\n",
    "                balanced = False\n",
    "            else:\n",
    "                top = s.pop()\n",
    "                if not matches(top,symbol):\n",
    "                    balanced = False\n",
    "        index =index + 1\n",
    "    if balanced and s.isEmpty():\n",
    "        return True\n",
    "    else:\n",
    "        return False\n",
    "\n",
    "def matches(open,close):\n",
    "    opens = \"([{\"\n",
    "    closers = \"}])\"\n",
    "    return opens.index(open) == closers.index(close)\n",
    "    \n",
    "print(parChecker('{([])}'))\n",
    "print(parChecker('()'))"
   ]
  },
  {
   "cell_type": "markdown",
   "metadata": {},
   "source": [
    "## 队列"
   ]
  },
  {
   "cell_type": "code",
   "execution_count": 20,
   "metadata": {},
   "outputs": [
    {
     "name": "stdout",
     "output_type": "stream",
     "text": [
      "lause\n"
     ]
    }
   ],
   "source": [
    "# hotpotato\n",
    "\n",
    "from pythonds.basic.queue import Queue\n",
    "\n",
    "def hotpotato(namelist,num):\n",
    "    simqueue = Queue()   #创建列队\n",
    "    for name in namelist:   #入队\n",
    "        simqueue.enqueue(name)\n",
    "    while simqueue.size() > 1:   \n",
    "        for i in range(num):   #出队入队num次\n",
    "            simqueue.enqueue(simqueue.dequeue())\n",
    "        \n",
    "        simqueue.dequeue()\n",
    "    return (simqueue.dequeue())\n",
    "\n",
    "namelist1 = ['jon','sami','andrew','lause','clack','pepe','lus']\n",
    "num1 = 2\n",
    "print(hotpotato(namelist1,num1))        "
   ]
  },
  {
   "cell_type": "markdown",
   "metadata": {},
   "source": [
    "### 打印模型\n",
    "    对象：打印任务、打印队列、打印机\n",
    "    打印任务：提交时间、打印页数\n",
    "    打印列队：具有FIFO性质的打印任务列队\n",
    "    打印机：打印速度、是否忙"
   ]
  },
  {
   "cell_type": "code",
   "execution_count": null,
   "metadata": {
    "collapsed": true
   },
   "outputs": [],
   "source": [
    "# 代码\n",
    "\n",
    "from pythonds.basic.queue import Queue\n",
    "\n",
    "import random\n",
    "\n",
    "class Printer:\n",
    "    def __init__(self,ppt):  # ppt:打印速度\n",
    "        self.pagerate = ppt\n",
    "        self.currenrTask = None\n",
    "        self.timeRemaining = 0\n",
    "        \n",
    "    def tick(self):   #打印1秒\n",
    "        if self.currentTask != None:\n",
    "            self.timeRemaining -= 1\n",
    "            if self.timeRemaining <= 0:\n",
    "                self.currentTask = None\n",
    "    \n",
    "    def busy(self):\n",
    "        if self.currentTask != 0:\n",
    "            return True\n",
    "        else:\n",
    "            return False\n",
    "    \n",
    "    def startNext(self,newtask):  #打印新作业\n",
    "        self.currentTask = newtask\n",
    "        self.timeRemaining = newtask.getPages()\\\n",
    "                             * 60/self.pagerate\n",
    "        \n",
    "class Task:\n",
    "    def __init__(self,time):\n",
    "        self.timetamp = time  #生成时间戳\n",
    "        self.pages = random.randrange(1,21)\n",
    "    \n",
    "    def getStamp(self):\n",
    "        return self.timestamp\n",
    "    \n",
    "    def getPages(self):\n",
    "        return self.pages\n",
    "    \n",
    "    def waitTime(self,currenttime):\n",
    "        return currenttime - self.timetamp\n",
    "    \n",
    "    \n",
    "def simulation(numSecond,pagePerMinute): #模拟打印\n",
    "    \n",
    "    labprinter = Printer(pagePerMinute)\n",
    "    printQueue = Queue()\n",
    "    waitingtimes = []\n",
    "    \n",
    "    for currentSecond in range(numSeconds):\n",
    "        if newPrintTask():\n",
    "            task = Task(currentSecond)\n",
    "            printQueue.enqueue(task)\n",
    "            \n",
    "        if (not labprinter.busy()) and\\\n",
    "            (not printQueue.isEmpty()):\n",
    "                nexttask = printQueue.dequeue()\n",
    "                waitingtimes.append(\\\n",
    "                   nexttask.waitTime(currentSecond))\n",
    "                labprinter.startNext(nexttask)\n",
    "                \n",
    "        labprinter.tick()\n",
    "        \n",
    "        \n",
    "        \n",
    "        "
   ]
  },
  {
   "cell_type": "markdown",
   "metadata": {},
   "source": [
    "## Deque"
   ]
  },
  {
   "cell_type": "code",
   "execution_count": null,
   "metadata": {
    "collapsed": true
   },
   "outputs": [],
   "source": [
    "class Deque:\n",
    "    def __init__(self):\n",
    "        self.items = []\n",
    "        \n",
    "    def addFront(self,item):\n",
    "        self.items.append(item)\n",
    "        \n",
    "    def addRear(self,item):\n",
    "        self.items.insert(0,item)\n",
    "        \n",
    "    def removeFront(self):\n",
    "        self.items.pop()\n",
    "        \n",
    "    def removeRear(self):\n",
    "        self.items.pop(0)\n",
    "        \n",
    "    def isEmpty(self):\n",
    "        return self.items == []\n",
    "    \n",
    "    def size(self):\n",
    "        return len(self.items)"
   ]
  },
  {
   "cell_type": "code",
   "execution_count": 2,
   "metadata": {},
   "outputs": [
    {
     "name": "stdout",
     "output_type": "stream",
     "text": [
      "False\n",
      "True\n"
     ]
    }
   ],
   "source": [
    "# 回文代码\n",
    "from pythonds.basic.deque import Deque\n",
    "\n",
    "def palcheck(pal):\n",
    "    s = Deque()\n",
    "    for i in pal:\n",
    "        s.addFront(i)\n",
    "    stillequal = True\n",
    "    \n",
    "    while s.size() > 1 and stillequal:\n",
    "        Top = s.removeFront()\n",
    "        Rear = s.removeRear()\n",
    "        if Top != Rear:\n",
    "            stillequal = False\n",
    "    \n",
    "    return stillequal\n",
    "\n",
    "print(palcheck(\"lsanaind\"))\n",
    "print(palcheck(\"radar\"))"
   ]
  }
 ],
 "metadata": {
  "kernelspec": {
   "display_name": "Python 3",
   "language": "python",
   "name": "python3"
  },
  "language_info": {
   "codemirror_mode": {
    "name": "ipython",
    "version": 3
   },
   "file_extension": ".py",
   "mimetype": "text/x-python",
   "name": "python",
   "nbconvert_exporter": "python",
   "pygments_lexer": "ipython3",
   "version": "3.6.2"
  }
 },
 "nbformat": 4,
 "nbformat_minor": 2
}
